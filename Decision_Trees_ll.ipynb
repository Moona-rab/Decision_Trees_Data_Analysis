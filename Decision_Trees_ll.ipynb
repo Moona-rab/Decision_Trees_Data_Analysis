{
 "cells": [
  {
   "cell_type": "markdown",
   "id": "996eaae3",
   "metadata": {},
   "source": [
    "# Decision Trees ll"
   ]
  },
  {
   "cell_type": "markdown",
   "id": "25ad2148",
   "metadata": {},
   "source": [
    "The objective of this notebook is to improve our Decision Tree that we created for the titanic dataset so that it is more robust and less sensitive to variances in our dataset. We will do this by creating muliple classifiers and combine the predictions to form a single, improved prediction.\n",
    "\n",
    "This dataset consists of data for approximately 40% of the passengers of the Titianic under various categories such as Name, Sex, Age, and Class. "
   ]
  },
  {
   "cell_type": "code",
   "execution_count": 141,
   "id": "347aaa95",
   "metadata": {},
   "outputs": [],
   "source": [
    "# importing libraries\n",
    "import numpy as np\n",
    "import pandas as pd\n",
    "from sklearn.datasets import make_classification\n",
    "from sklearn.model_selection import train_test_split\n",
    "from sklearn.tree import DecisionTreeClassifier\n",
    "from sklearn.ensemble import BaggingClassifier\n",
    "from sklearn.ensemble import RandomForestClassifier\n",
    "from sklearn.ensemble import AdaBoostClassifier\n",
    "from sklearn import tree\n",
    "from sklearn.metrics import accuracy_score\n",
    "\n",
    "# for visualisation\n",
    "import matplotlib.pyplot as plt\n",
    "import seaborn as sns\n",
    "%matplotlib inline\n",
    "from sklearn.tree import export_graphviz\n",
    "from IPython.display import Image  \n",
    "from subprocess import call\n",
    "\n",
    "import warnings\n",
    "warnings.filterwarnings('ignore')"
   ]
  },
  {
   "cell_type": "markdown",
   "id": "bc04b6e3",
   "metadata": {},
   "source": [
    "## Reading Data"
   ]
  },
  {
   "cell_type": "code",
   "execution_count": 142,
   "id": "80b31297",
   "metadata": {},
   "outputs": [
    {
     "data": {
      "text/html": [
       "<div>\n",
       "<style scoped>\n",
       "    .dataframe tbody tr th:only-of-type {\n",
       "        vertical-align: middle;\n",
       "    }\n",
       "\n",
       "    .dataframe tbody tr th {\n",
       "        vertical-align: top;\n",
       "    }\n",
       "\n",
       "    .dataframe thead th {\n",
       "        text-align: right;\n",
       "    }\n",
       "</style>\n",
       "<table border=\"1\" class=\"dataframe\">\n",
       "  <thead>\n",
       "    <tr style=\"text-align: right;\">\n",
       "      <th></th>\n",
       "      <th>PassengerId</th>\n",
       "      <th>Survived</th>\n",
       "      <th>Pclass</th>\n",
       "      <th>Name</th>\n",
       "      <th>Sex</th>\n",
       "      <th>Age</th>\n",
       "      <th>SibSp</th>\n",
       "      <th>Parch</th>\n",
       "      <th>Ticket</th>\n",
       "      <th>Fare</th>\n",
       "      <th>Cabin</th>\n",
       "      <th>Embarked</th>\n",
       "    </tr>\n",
       "  </thead>\n",
       "  <tbody>\n",
       "    <tr>\n",
       "      <th>0</th>\n",
       "      <td>1</td>\n",
       "      <td>0</td>\n",
       "      <td>3</td>\n",
       "      <td>Braund, Mr. Owen Harris</td>\n",
       "      <td>male</td>\n",
       "      <td>22.0</td>\n",
       "      <td>1</td>\n",
       "      <td>0</td>\n",
       "      <td>A/5 21171</td>\n",
       "      <td>7.2500</td>\n",
       "      <td>NaN</td>\n",
       "      <td>S</td>\n",
       "    </tr>\n",
       "    <tr>\n",
       "      <th>1</th>\n",
       "      <td>2</td>\n",
       "      <td>1</td>\n",
       "      <td>1</td>\n",
       "      <td>Cumings, Mrs. John Bradley (Florence Briggs Th...</td>\n",
       "      <td>female</td>\n",
       "      <td>38.0</td>\n",
       "      <td>1</td>\n",
       "      <td>0</td>\n",
       "      <td>PC 17599</td>\n",
       "      <td>71.2833</td>\n",
       "      <td>C85</td>\n",
       "      <td>C</td>\n",
       "    </tr>\n",
       "    <tr>\n",
       "      <th>2</th>\n",
       "      <td>3</td>\n",
       "      <td>1</td>\n",
       "      <td>3</td>\n",
       "      <td>Heikkinen, Miss. Laina</td>\n",
       "      <td>female</td>\n",
       "      <td>26.0</td>\n",
       "      <td>0</td>\n",
       "      <td>0</td>\n",
       "      <td>STON/O2. 3101282</td>\n",
       "      <td>7.9250</td>\n",
       "      <td>NaN</td>\n",
       "      <td>S</td>\n",
       "    </tr>\n",
       "    <tr>\n",
       "      <th>3</th>\n",
       "      <td>4</td>\n",
       "      <td>1</td>\n",
       "      <td>1</td>\n",
       "      <td>Futrelle, Mrs. Jacques Heath (Lily May Peel)</td>\n",
       "      <td>female</td>\n",
       "      <td>35.0</td>\n",
       "      <td>1</td>\n",
       "      <td>0</td>\n",
       "      <td>113803</td>\n",
       "      <td>53.1000</td>\n",
       "      <td>C123</td>\n",
       "      <td>S</td>\n",
       "    </tr>\n",
       "    <tr>\n",
       "      <th>4</th>\n",
       "      <td>5</td>\n",
       "      <td>0</td>\n",
       "      <td>3</td>\n",
       "      <td>Allen, Mr. William Henry</td>\n",
       "      <td>male</td>\n",
       "      <td>35.0</td>\n",
       "      <td>0</td>\n",
       "      <td>0</td>\n",
       "      <td>373450</td>\n",
       "      <td>8.0500</td>\n",
       "      <td>NaN</td>\n",
       "      <td>S</td>\n",
       "    </tr>\n",
       "  </tbody>\n",
       "</table>\n",
       "</div>"
      ],
      "text/plain": [
       "   PassengerId  Survived  Pclass  \\\n",
       "0            1         0       3   \n",
       "1            2         1       1   \n",
       "2            3         1       3   \n",
       "3            4         1       1   \n",
       "4            5         0       3   \n",
       "\n",
       "                                                Name     Sex   Age  SibSp  \\\n",
       "0                            Braund, Mr. Owen Harris    male  22.0      1   \n",
       "1  Cumings, Mrs. John Bradley (Florence Briggs Th...  female  38.0      1   \n",
       "2                             Heikkinen, Miss. Laina  female  26.0      0   \n",
       "3       Futrelle, Mrs. Jacques Heath (Lily May Peel)  female  35.0      1   \n",
       "4                           Allen, Mr. William Henry    male  35.0      0   \n",
       "\n",
       "   Parch            Ticket     Fare Cabin Embarked  \n",
       "0      0         A/5 21171   7.2500   NaN        S  \n",
       "1      0          PC 17599  71.2833   C85        C  \n",
       "2      0  STON/O2. 3101282   7.9250   NaN        S  \n",
       "3      0            113803  53.1000  C123        S  \n",
       "4      0            373450   8.0500   NaN        S  "
      ]
     },
     "execution_count": 142,
     "metadata": {},
     "output_type": "execute_result"
    }
   ],
   "source": [
    "# importing the dataset\n",
    "df = pd.read_csv('titanic.csv')\n",
    "\n",
    "#View first 5 rows\n",
    "df.head()"
   ]
  },
  {
   "cell_type": "code",
   "execution_count": 143,
   "id": "422c09c5",
   "metadata": {},
   "outputs": [
    {
     "data": {
      "text/plain": [
       "(891, 12)"
      ]
     },
     "execution_count": 143,
     "metadata": {},
     "output_type": "execute_result"
    }
   ],
   "source": [
    "# Check shape for no. of rows and columns\n",
    "df.shape"
   ]
  },
  {
   "cell_type": "code",
   "execution_count": 144,
   "id": "b72e4c54",
   "metadata": {},
   "outputs": [
    {
     "name": "stdout",
     "output_type": "stream",
     "text": [
      "<class 'pandas.core.frame.DataFrame'>\n",
      "RangeIndex: 891 entries, 0 to 890\n",
      "Data columns (total 12 columns):\n",
      " #   Column       Non-Null Count  Dtype  \n",
      "---  ------       --------------  -----  \n",
      " 0   PassengerId  891 non-null    int64  \n",
      " 1   Survived     891 non-null    int64  \n",
      " 2   Pclass       891 non-null    int64  \n",
      " 3   Name         891 non-null    object \n",
      " 4   Sex          891 non-null    object \n",
      " 5   Age          714 non-null    float64\n",
      " 6   SibSp        891 non-null    int64  \n",
      " 7   Parch        891 non-null    int64  \n",
      " 8   Ticket       891 non-null    object \n",
      " 9   Fare         891 non-null    float64\n",
      " 10  Cabin        204 non-null    object \n",
      " 11  Embarked     889 non-null    object \n",
      "dtypes: float64(2), int64(5), object(5)\n",
      "memory usage: 83.7+ KB\n"
     ]
    }
   ],
   "source": [
    "# Check data types\n",
    "df.info()"
   ]
  },
  {
   "cell_type": "code",
   "execution_count": 145,
   "id": "c137967f",
   "metadata": {},
   "outputs": [
    {
     "data": {
      "text/html": [
       "<div>\n",
       "<style scoped>\n",
       "    .dataframe tbody tr th:only-of-type {\n",
       "        vertical-align: middle;\n",
       "    }\n",
       "\n",
       "    .dataframe tbody tr th {\n",
       "        vertical-align: top;\n",
       "    }\n",
       "\n",
       "    .dataframe thead th {\n",
       "        text-align: right;\n",
       "    }\n",
       "</style>\n",
       "<table border=\"1\" class=\"dataframe\">\n",
       "  <thead>\n",
       "    <tr style=\"text-align: right;\">\n",
       "      <th></th>\n",
       "      <th>PassengerId</th>\n",
       "      <th>Survived</th>\n",
       "      <th>Pclass</th>\n",
       "      <th>Age</th>\n",
       "      <th>SibSp</th>\n",
       "      <th>Parch</th>\n",
       "      <th>Fare</th>\n",
       "    </tr>\n",
       "  </thead>\n",
       "  <tbody>\n",
       "    <tr>\n",
       "      <th>count</th>\n",
       "      <td>891.000000</td>\n",
       "      <td>891.000000</td>\n",
       "      <td>891.000000</td>\n",
       "      <td>714.000000</td>\n",
       "      <td>891.000000</td>\n",
       "      <td>891.000000</td>\n",
       "      <td>891.000000</td>\n",
       "    </tr>\n",
       "    <tr>\n",
       "      <th>mean</th>\n",
       "      <td>446.000000</td>\n",
       "      <td>0.383838</td>\n",
       "      <td>2.308642</td>\n",
       "      <td>29.699118</td>\n",
       "      <td>0.523008</td>\n",
       "      <td>0.381594</td>\n",
       "      <td>32.204208</td>\n",
       "    </tr>\n",
       "    <tr>\n",
       "      <th>std</th>\n",
       "      <td>257.353842</td>\n",
       "      <td>0.486592</td>\n",
       "      <td>0.836071</td>\n",
       "      <td>14.526497</td>\n",
       "      <td>1.102743</td>\n",
       "      <td>0.806057</td>\n",
       "      <td>49.693429</td>\n",
       "    </tr>\n",
       "    <tr>\n",
       "      <th>min</th>\n",
       "      <td>1.000000</td>\n",
       "      <td>0.000000</td>\n",
       "      <td>1.000000</td>\n",
       "      <td>0.420000</td>\n",
       "      <td>0.000000</td>\n",
       "      <td>0.000000</td>\n",
       "      <td>0.000000</td>\n",
       "    </tr>\n",
       "    <tr>\n",
       "      <th>25%</th>\n",
       "      <td>223.500000</td>\n",
       "      <td>0.000000</td>\n",
       "      <td>2.000000</td>\n",
       "      <td>20.125000</td>\n",
       "      <td>0.000000</td>\n",
       "      <td>0.000000</td>\n",
       "      <td>7.910400</td>\n",
       "    </tr>\n",
       "    <tr>\n",
       "      <th>50%</th>\n",
       "      <td>446.000000</td>\n",
       "      <td>0.000000</td>\n",
       "      <td>3.000000</td>\n",
       "      <td>28.000000</td>\n",
       "      <td>0.000000</td>\n",
       "      <td>0.000000</td>\n",
       "      <td>14.454200</td>\n",
       "    </tr>\n",
       "    <tr>\n",
       "      <th>75%</th>\n",
       "      <td>668.500000</td>\n",
       "      <td>1.000000</td>\n",
       "      <td>3.000000</td>\n",
       "      <td>38.000000</td>\n",
       "      <td>1.000000</td>\n",
       "      <td>0.000000</td>\n",
       "      <td>31.000000</td>\n",
       "    </tr>\n",
       "    <tr>\n",
       "      <th>max</th>\n",
       "      <td>891.000000</td>\n",
       "      <td>1.000000</td>\n",
       "      <td>3.000000</td>\n",
       "      <td>80.000000</td>\n",
       "      <td>8.000000</td>\n",
       "      <td>6.000000</td>\n",
       "      <td>512.329200</td>\n",
       "    </tr>\n",
       "  </tbody>\n",
       "</table>\n",
       "</div>"
      ],
      "text/plain": [
       "       PassengerId    Survived      Pclass         Age       SibSp  \\\n",
       "count   891.000000  891.000000  891.000000  714.000000  891.000000   \n",
       "mean    446.000000    0.383838    2.308642   29.699118    0.523008   \n",
       "std     257.353842    0.486592    0.836071   14.526497    1.102743   \n",
       "min       1.000000    0.000000    1.000000    0.420000    0.000000   \n",
       "25%     223.500000    0.000000    2.000000   20.125000    0.000000   \n",
       "50%     446.000000    0.000000    3.000000   28.000000    0.000000   \n",
       "75%     668.500000    1.000000    3.000000   38.000000    1.000000   \n",
       "max     891.000000    1.000000    3.000000   80.000000    8.000000   \n",
       "\n",
       "            Parch        Fare  \n",
       "count  891.000000  891.000000  \n",
       "mean     0.381594   32.204208  \n",
       "std      0.806057   49.693429  \n",
       "min      0.000000    0.000000  \n",
       "25%      0.000000    7.910400  \n",
       "50%      0.000000   14.454200  \n",
       "75%      0.000000   31.000000  \n",
       "max      6.000000  512.329200  "
      ]
     },
     "execution_count": 145,
     "metadata": {},
     "output_type": "execute_result"
    }
   ],
   "source": [
    "# View statistics\n",
    "df.describe()"
   ]
  },
  {
   "cell_type": "code",
   "execution_count": 146,
   "id": "5d206382",
   "metadata": {},
   "outputs": [
    {
     "data": {
      "text/plain": [
       "PassengerId      0\n",
       "Survived         0\n",
       "Pclass           0\n",
       "Name             0\n",
       "Sex              0\n",
       "Age            177\n",
       "SibSp            0\n",
       "Parch            0\n",
       "Ticket           0\n",
       "Fare             0\n",
       "Cabin          687\n",
       "Embarked         2\n",
       "dtype: int64"
      ]
     },
     "execution_count": 146,
     "metadata": {},
     "output_type": "execute_result"
    }
   ],
   "source": [
    "# Get the number of missing data points per column\n",
    "missing_values_count = df.isnull().sum()\n",
    "\n",
    "# look at the # of missing points in all the columns\n",
    "missing_values_count[:,]"
   ]
  },
  {
   "cell_type": "markdown",
   "id": "62039172",
   "metadata": {},
   "source": [
    "From the data we can see that columns 'Age' and 'Cabin' both have missing values. A heat map of the data would clarify whereabouts the mssing data is."
   ]
  },
  {
   "cell_type": "code",
   "execution_count": 147,
   "id": "19a86bac",
   "metadata": {},
   "outputs": [
    {
     "data": {
      "image/png": "[encoded data removed]",
      "text/plain": [
       "<Figure size 640x480 with 1 Axes>"
      ]
     },
     "metadata": {},
     "output_type": "display_data"
    }
   ],
   "source": [
    "# Creating heatmap of missing data\n",
    "sns.heatmap(df.isnull(),yticklabels=False,cbar=False,cmap='viridis');"
   ]
  },
  {
   "cell_type": "code",
   "execution_count": 148,
   "id": "f59474ba",
   "metadata": {},
   "outputs": [
    {
     "data": {
      "text/plain": [
       "866"
      ]
     },
     "execution_count": 148,
     "metadata": {},
     "output_type": "execute_result"
    }
   ],
   "source": [
    "# counting missing values\n",
    "missing_val_cnt = df.isnull().sum().sum()\n",
    "missing_val_cnt"
   ]
  },
  {
   "cell_type": "code",
   "execution_count": 149,
   "id": "759c76fd",
   "metadata": {},
   "outputs": [
    {
     "data": {
      "text/plain": [
       "10692"
      ]
     },
     "execution_count": 149,
     "metadata": {},
     "output_type": "execute_result"
    }
   ],
   "source": [
    "# counting total cells\n",
    "tot_cells = np.product(df.shape)\n",
    "tot_cells"
   ]
  },
  {
   "cell_type": "code",
   "execution_count": 150,
   "id": "72c861c0",
   "metadata": {},
   "outputs": [
    {
     "name": "stdout",
     "output_type": "stream",
     "text": [
      "Percentage of missing values in dataset: 8%\n"
     ]
    }
   ],
   "source": [
    "# Percentage of missing values\n",
    "percentage_missing = round(missing_val_cnt/tot_cells * 100)\n",
    "print(f'Percentage of missing values in dataset: {percentage_missing}%')"
   ]
  },
  {
   "cell_type": "markdown",
   "id": "12d2e2ab",
   "metadata": {},
   "source": [
    "A missing value of 8% is too high to ignore so we should try impute some values that are significant to our invetisagiton.\n",
    "\n",
    "We can see from the heatmap that 'Cabin' has a very large number of null values, however it is irrelevant to our investigation, hence it would be pertinent to drop the column."
   ]
  },
  {
   "cell_type": "code",
   "execution_count": 151,
   "id": "04856f34",
   "metadata": {},
   "outputs": [
    {
     "data": {
      "text/html": [
       "<div>\n",
       "<style scoped>\n",
       "    .dataframe tbody tr th:only-of-type {\n",
       "        vertical-align: middle;\n",
       "    }\n",
       "\n",
       "    .dataframe tbody tr th {\n",
       "        vertical-align: top;\n",
       "    }\n",
       "\n",
       "    .dataframe thead th {\n",
       "        text-align: right;\n",
       "    }\n",
       "</style>\n",
       "<table border=\"1\" class=\"dataframe\">\n",
       "  <thead>\n",
       "    <tr style=\"text-align: right;\">\n",
       "      <th></th>\n",
       "      <th>PassengerId</th>\n",
       "      <th>Survived</th>\n",
       "      <th>Pclass</th>\n",
       "      <th>Name</th>\n",
       "      <th>Sex</th>\n",
       "      <th>Age</th>\n",
       "      <th>SibSp</th>\n",
       "      <th>Parch</th>\n",
       "      <th>Ticket</th>\n",
       "      <th>Fare</th>\n",
       "      <th>Embarked</th>\n",
       "    </tr>\n",
       "  </thead>\n",
       "  <tbody>\n",
       "    <tr>\n",
       "      <th>0</th>\n",
       "      <td>1</td>\n",
       "      <td>0</td>\n",
       "      <td>3</td>\n",
       "      <td>Braund, Mr. Owen Harris</td>\n",
       "      <td>male</td>\n",
       "      <td>22.0</td>\n",
       "      <td>1</td>\n",
       "      <td>0</td>\n",
       "      <td>A/5 21171</td>\n",
       "      <td>7.2500</td>\n",
       "      <td>S</td>\n",
       "    </tr>\n",
       "    <tr>\n",
       "      <th>1</th>\n",
       "      <td>2</td>\n",
       "      <td>1</td>\n",
       "      <td>1</td>\n",
       "      <td>Cumings, Mrs. John Bradley (Florence Briggs Th...</td>\n",
       "      <td>female</td>\n",
       "      <td>38.0</td>\n",
       "      <td>1</td>\n",
       "      <td>0</td>\n",
       "      <td>PC 17599</td>\n",
       "      <td>71.2833</td>\n",
       "      <td>C</td>\n",
       "    </tr>\n",
       "    <tr>\n",
       "      <th>2</th>\n",
       "      <td>3</td>\n",
       "      <td>1</td>\n",
       "      <td>3</td>\n",
       "      <td>Heikkinen, Miss. Laina</td>\n",
       "      <td>female</td>\n",
       "      <td>26.0</td>\n",
       "      <td>0</td>\n",
       "      <td>0</td>\n",
       "      <td>STON/O2. 3101282</td>\n",
       "      <td>7.9250</td>\n",
       "      <td>S</td>\n",
       "    </tr>\n",
       "    <tr>\n",
       "      <th>3</th>\n",
       "      <td>4</td>\n",
       "      <td>1</td>\n",
       "      <td>1</td>\n",
       "      <td>Futrelle, Mrs. Jacques Heath (Lily May Peel)</td>\n",
       "      <td>female</td>\n",
       "      <td>35.0</td>\n",
       "      <td>1</td>\n",
       "      <td>0</td>\n",
       "      <td>113803</td>\n",
       "      <td>53.1000</td>\n",
       "      <td>S</td>\n",
       "    </tr>\n",
       "    <tr>\n",
       "      <th>4</th>\n",
       "      <td>5</td>\n",
       "      <td>0</td>\n",
       "      <td>3</td>\n",
       "      <td>Allen, Mr. William Henry</td>\n",
       "      <td>male</td>\n",
       "      <td>35.0</td>\n",
       "      <td>0</td>\n",
       "      <td>0</td>\n",
       "      <td>373450</td>\n",
       "      <td>8.0500</td>\n",
       "      <td>S</td>\n",
       "    </tr>\n",
       "  </tbody>\n",
       "</table>\n",
       "</div>"
      ],
      "text/plain": [
       "   PassengerId  Survived  Pclass  \\\n",
       "0            1         0       3   \n",
       "1            2         1       1   \n",
       "2            3         1       3   \n",
       "3            4         1       1   \n",
       "4            5         0       3   \n",
       "\n",
       "                                                Name     Sex   Age  SibSp  \\\n",
       "0                            Braund, Mr. Owen Harris    male  22.0      1   \n",
       "1  Cumings, Mrs. John Bradley (Florence Briggs Th...  female  38.0      1   \n",
       "2                             Heikkinen, Miss. Laina  female  26.0      0   \n",
       "3       Futrelle, Mrs. Jacques Heath (Lily May Peel)  female  35.0      1   \n",
       "4                           Allen, Mr. William Henry    male  35.0      0   \n",
       "\n",
       "   Parch            Ticket     Fare Embarked  \n",
       "0      0         A/5 21171   7.2500        S  \n",
       "1      0          PC 17599  71.2833        C  \n",
       "2      0  STON/O2. 3101282   7.9250        S  \n",
       "3      0            113803  53.1000        S  \n",
       "4      0            373450   8.0500        S  "
      ]
     },
     "execution_count": 151,
     "metadata": {},
     "output_type": "execute_result"
    }
   ],
   "source": [
    "# Dropping column 'Cabin'\n",
    "df.drop('Cabin', axis=1, inplace=True)\n",
    "\n",
    "# Viewing dataset to ensure column has been dropped\n",
    "df.head()"
   ]
  },
  {
   "cell_type": "markdown",
   "id": "3f48dd3f",
   "metadata": {},
   "source": [
    "Though the columns 'Ticket', 'PassengerId' and 'Name' do not have any missing values they are not significant to our investigation regarding factors affecting survival thus we will also drop these."
   ]
  },
  {
   "cell_type": "code",
   "execution_count": 152,
   "id": "a5938c93",
   "metadata": {},
   "outputs": [
    {
     "data": {
      "text/html": [
       "<div>\n",
       "<style scoped>\n",
       "    .dataframe tbody tr th:only-of-type {\n",
       "        vertical-align: middle;\n",
       "    }\n",
       "\n",
       "    .dataframe tbody tr th {\n",
       "        vertical-align: top;\n",
       "    }\n",
       "\n",
       "    .dataframe thead th {\n",
       "        text-align: right;\n",
       "    }\n",
       "</style>\n",
       "<table border=\"1\" class=\"dataframe\">\n",
       "  <thead>\n",
       "    <tr style=\"text-align: right;\">\n",
       "      <th></th>\n",
       "      <th>Survived</th>\n",
       "      <th>Pclass</th>\n",
       "      <th>Sex</th>\n",
       "      <th>Age</th>\n",
       "      <th>SibSp</th>\n",
       "      <th>Parch</th>\n",
       "      <th>Fare</th>\n",
       "      <th>Embarked</th>\n",
       "    </tr>\n",
       "  </thead>\n",
       "  <tbody>\n",
       "    <tr>\n",
       "      <th>0</th>\n",
       "      <td>0</td>\n",
       "      <td>3</td>\n",
       "      <td>male</td>\n",
       "      <td>22.0</td>\n",
       "      <td>1</td>\n",
       "      <td>0</td>\n",
       "      <td>7.2500</td>\n",
       "      <td>S</td>\n",
       "    </tr>\n",
       "    <tr>\n",
       "      <th>1</th>\n",
       "      <td>1</td>\n",
       "      <td>1</td>\n",
       "      <td>female</td>\n",
       "      <td>38.0</td>\n",
       "      <td>1</td>\n",
       "      <td>0</td>\n",
       "      <td>71.2833</td>\n",
       "      <td>C</td>\n",
       "    </tr>\n",
       "    <tr>\n",
       "      <th>2</th>\n",
       "      <td>1</td>\n",
       "      <td>3</td>\n",
       "      <td>female</td>\n",
       "      <td>26.0</td>\n",
       "      <td>0</td>\n",
       "      <td>0</td>\n",
       "      <td>7.9250</td>\n",
       "      <td>S</td>\n",
       "    </tr>\n",
       "    <tr>\n",
       "      <th>3</th>\n",
       "      <td>1</td>\n",
       "      <td>1</td>\n",
       "      <td>female</td>\n",
       "      <td>35.0</td>\n",
       "      <td>1</td>\n",
       "      <td>0</td>\n",
       "      <td>53.1000</td>\n",
       "      <td>S</td>\n",
       "    </tr>\n",
       "    <tr>\n",
       "      <th>4</th>\n",
       "      <td>0</td>\n",
       "      <td>3</td>\n",
       "      <td>male</td>\n",
       "      <td>35.0</td>\n",
       "      <td>0</td>\n",
       "      <td>0</td>\n",
       "      <td>8.0500</td>\n",
       "      <td>S</td>\n",
       "    </tr>\n",
       "  </tbody>\n",
       "</table>\n",
       "</div>"
      ],
      "text/plain": [
       "   Survived  Pclass     Sex   Age  SibSp  Parch     Fare Embarked\n",
       "0         0       3    male  22.0      1      0   7.2500        S\n",
       "1         1       1  female  38.0      1      0  71.2833        C\n",
       "2         1       3  female  26.0      0      0   7.9250        S\n",
       "3         1       1  female  35.0      1      0  53.1000        S\n",
       "4         0       3    male  35.0      0      0   8.0500        S"
      ]
     },
     "execution_count": 152,
     "metadata": {},
     "output_type": "execute_result"
    }
   ],
   "source": [
    "# Dropping columns Ticket', PassengerId' and 'Name'\n",
    "df.drop(['Ticket', 'PassengerId', 'Name'], axis=1, inplace=True)\n",
    "\n",
    "# Viewing dataset to ensure columns have been dropped\n",
    "df.head()"
   ]
  },
  {
   "cell_type": "markdown",
   "id": "1c58449b",
   "metadata": {},
   "source": [
    "There are a moderate number of values missing from 'Age'. The best method to impute these values would be to use the mean. "
   ]
  },
  {
   "cell_type": "code",
   "execution_count": 153,
   "id": "799f3831",
   "metadata": {},
   "outputs": [
    {
     "data": {
      "text/plain": [
       "count    714.000000\n",
       "mean      29.699118\n",
       "std       14.526497\n",
       "min        0.420000\n",
       "25%       20.125000\n",
       "50%       28.000000\n",
       "75%       38.000000\n",
       "max       80.000000\n",
       "Name: Age, dtype: float64"
      ]
     },
     "execution_count": 153,
     "metadata": {},
     "output_type": "execute_result"
    }
   ],
   "source": [
    "# View Age statistics\n",
    "df.Age.describe()"
   ]
  },
  {
   "cell_type": "code",
   "execution_count": 154,
   "id": "cf5deab7",
   "metadata": {},
   "outputs": [
    {
     "data": {
      "text/plain": [
       "array([22.        , 38.        , 26.        , 35.        , 29.69911765,\n",
       "       54.        ,  2.        , 27.        , 14.        ,  4.        ,\n",
       "       58.        , 20.        , 39.        , 55.        , 31.        ,\n",
       "       34.        , 15.        , 28.        ,  8.        , 19.        ,\n",
       "       40.        , 66.        , 42.        , 21.        , 18.        ,\n",
       "        3.        ,  7.        , 49.        , 29.        , 65.        ,\n",
       "       28.5       ,  5.        , 11.        , 45.        , 17.        ,\n",
       "       32.        , 16.        , 25.        ,  0.83      , 30.        ,\n",
       "       33.        , 23.        , 24.        , 46.        , 59.        ,\n",
       "       71.        , 37.        , 47.        , 14.5       , 70.5       ,\n",
       "       32.5       , 12.        ,  9.        , 36.5       , 51.        ,\n",
       "       55.5       , 40.5       , 44.        ,  1.        , 61.        ,\n",
       "       56.        , 50.        , 36.        , 45.5       , 20.5       ,\n",
       "       62.        , 41.        , 52.        , 63.        , 23.5       ,\n",
       "        0.92      , 43.        , 60.        , 10.        , 64.        ,\n",
       "       13.        , 48.        ,  0.75      , 53.        , 57.        ,\n",
       "       80.        , 70.        , 24.5       ,  6.        ,  0.67      ,\n",
       "       30.5       ,  0.42      , 34.5       , 74.        ])"
      ]
     },
     "execution_count": 154,
     "metadata": {},
     "output_type": "execute_result"
    }
   ],
   "source": [
    "# Impute values\n",
    "mean_age = df.Age.mean()\n",
    "df.Age = df.Age.replace(np.nan, mean_age)\n",
    "df.Age.unique()\n"
   ]
  },
  {
   "cell_type": "markdown",
   "id": "6446fc1a",
   "metadata": {},
   "source": [
    "As there are only two values missing from 'Embarked' and these are Categorial we can drop these two rows from the dataset without affecting the investigation."
   ]
  },
  {
   "cell_type": "code",
   "execution_count": 155,
   "id": "2e480dbe",
   "metadata": {},
   "outputs": [
    {
     "data": {
      "text/html": [
       "<div>\n",
       "<style scoped>\n",
       "    .dataframe tbody tr th:only-of-type {\n",
       "        vertical-align: middle;\n",
       "    }\n",
       "\n",
       "    .dataframe tbody tr th {\n",
       "        vertical-align: top;\n",
       "    }\n",
       "\n",
       "    .dataframe thead th {\n",
       "        text-align: right;\n",
       "    }\n",
       "</style>\n",
       "<table border=\"1\" class=\"dataframe\">\n",
       "  <thead>\n",
       "    <tr style=\"text-align: right;\">\n",
       "      <th></th>\n",
       "      <th>Survived</th>\n",
       "      <th>Pclass</th>\n",
       "      <th>Sex</th>\n",
       "      <th>Age</th>\n",
       "      <th>SibSp</th>\n",
       "      <th>Parch</th>\n",
       "      <th>Fare</th>\n",
       "      <th>Embarked</th>\n",
       "    </tr>\n",
       "  </thead>\n",
       "  <tbody>\n",
       "    <tr>\n",
       "      <th>61</th>\n",
       "      <td>1</td>\n",
       "      <td>1</td>\n",
       "      <td>female</td>\n",
       "      <td>38.0</td>\n",
       "      <td>0</td>\n",
       "      <td>0</td>\n",
       "      <td>80.0</td>\n",
       "      <td>NaN</td>\n",
       "    </tr>\n",
       "    <tr>\n",
       "      <th>829</th>\n",
       "      <td>1</td>\n",
       "      <td>1</td>\n",
       "      <td>female</td>\n",
       "      <td>62.0</td>\n",
       "      <td>0</td>\n",
       "      <td>0</td>\n",
       "      <td>80.0</td>\n",
       "      <td>NaN</td>\n",
       "    </tr>\n",
       "  </tbody>\n",
       "</table>\n",
       "</div>"
      ],
      "text/plain": [
       "     Survived  Pclass     Sex   Age  SibSp  Parch  Fare Embarked\n",
       "61          1       1  female  38.0      0      0  80.0      NaN\n",
       "829         1       1  female  62.0      0      0  80.0      NaN"
      ]
     },
     "execution_count": 155,
     "metadata": {},
     "output_type": "execute_result"
    }
   ],
   "source": [
    "# viewing rows for remaining missing values\n",
    "df[df.isna().any(axis=1)]"
   ]
  },
  {
   "cell_type": "code",
   "execution_count": 156,
   "id": "e7bc8581",
   "metadata": {},
   "outputs": [
    {
     "data": {
      "text/plain": [
       "Survived    0\n",
       "Pclass      0\n",
       "Sex         0\n",
       "Age         0\n",
       "SibSp       0\n",
       "Parch       0\n",
       "Fare        0\n",
       "Embarked    0\n",
       "dtype: int64"
      ]
     },
     "execution_count": 156,
     "metadata": {},
     "output_type": "execute_result"
    }
   ],
   "source": [
    "# Drop specific rows\n",
    "df = df.drop([61, 829])\n",
    "\n",
    "# Get the number of missing data points per column\n",
    "missing_values_count = df.isnull().sum()\n",
    "\n",
    "# look at the # of missing points in all the columns\n",
    "missing_values_count[:,]"
   ]
  },
  {
   "cell_type": "markdown",
   "id": "8446dd03",
   "metadata": {},
   "source": [
    "## Classifying Data"
   ]
  },
  {
   "cell_type": "markdown",
   "id": "272c6dab",
   "metadata": {},
   "source": [
    "### Classifying Gender"
   ]
  },
  {
   "cell_type": "code",
   "execution_count": 157,
   "id": "2bb2dbee",
   "metadata": {},
   "outputs": [],
   "source": [
    "# Classifying 'female'\n",
    "df.Sex = df.Sex.replace('female', 0)"
   ]
  },
  {
   "cell_type": "code",
   "execution_count": 158,
   "id": "f4d96327",
   "metadata": {},
   "outputs": [],
   "source": [
    "# Classifying 'male'\n",
    "df.Sex = df.Sex.replace('male', 1)"
   ]
  },
  {
   "cell_type": "code",
   "execution_count": 159,
   "id": "4adbdd85",
   "metadata": {},
   "outputs": [],
   "source": [
    "# Formatting type\n",
    "df.Sex = df.Sex.astype('category')"
   ]
  },
  {
   "cell_type": "code",
   "execution_count": 160,
   "id": "33db4145",
   "metadata": {},
   "outputs": [
    {
     "data": {
      "text/plain": [
       "[1, 0]\n",
       "Categories (2, int64): [0, 1]"
      ]
     },
     "execution_count": 160,
     "metadata": {},
     "output_type": "execute_result"
    }
   ],
   "source": [
    "# View change\n",
    "df.Sex.unique()"
   ]
  },
  {
   "cell_type": "code",
   "execution_count": 161,
   "id": "1bed50c0",
   "metadata": {},
   "outputs": [
    {
     "data": {
      "text/plain": [
       "1    577\n",
       "0    312\n",
       "Name: Sex, dtype: int64"
      ]
     },
     "execution_count": 161,
     "metadata": {},
     "output_type": "execute_result"
    }
   ],
   "source": [
    "df.Sex.value_counts()"
   ]
  },
  {
   "cell_type": "code",
   "execution_count": 162,
   "id": "fe9d9f6b",
   "metadata": {},
   "outputs": [
    {
     "data": {
      "image/png": "[encoded data removed]",
      "text/plain": [
       "<Figure size 640x480 with 1 Axes>"
      ]
     },
     "metadata": {},
     "output_type": "display_data"
    }
   ],
   "source": [
    "# Plot bar chart to visualise\n",
    "sns.countplot(y='Sex', data=df);\n",
    "plt.title('Female(0)/Male(1)')\n",
    "plt.show()"
   ]
  },
  {
   "cell_type": "markdown",
   "id": "4393eb16",
   "metadata": {},
   "source": [
    "### Classifying Embarked"
   ]
  },
  {
   "cell_type": "code",
   "execution_count": 163,
   "id": "85063e75",
   "metadata": {},
   "outputs": [
    {
     "data": {
      "text/plain": [
       "array(['S', 'C', 'Q'], dtype=object)"
      ]
     },
     "execution_count": 163,
     "metadata": {},
     "output_type": "execute_result"
    }
   ],
   "source": [
    "df.Embarked.unique()"
   ]
  },
  {
   "cell_type": "code",
   "execution_count": 164,
   "id": "3effe5bb",
   "metadata": {},
   "outputs": [
    {
     "data": {
      "text/plain": [
       "S    644\n",
       "C    168\n",
       "Q     77\n",
       "Name: Embarked, dtype: int64"
      ]
     },
     "execution_count": 164,
     "metadata": {},
     "output_type": "execute_result"
    }
   ],
   "source": [
    "df.Embarked.value_counts()"
   ]
  },
  {
   "cell_type": "code",
   "execution_count": 165,
   "id": "61fc62cd",
   "metadata": {},
   "outputs": [],
   "source": [
    "df.Embarked = df.Embarked.replace('S', 0)"
   ]
  },
  {
   "cell_type": "code",
   "execution_count": 166,
   "id": "f21ee947",
   "metadata": {},
   "outputs": [],
   "source": [
    "df.Embarked = df.Embarked.replace('C', 1)"
   ]
  },
  {
   "cell_type": "code",
   "execution_count": 167,
   "id": "698f2ac5",
   "metadata": {},
   "outputs": [],
   "source": [
    "df.Embarked = df.Embarked.replace('Q', 2)"
   ]
  },
  {
   "cell_type": "code",
   "execution_count": 168,
   "id": "1f0d7bff",
   "metadata": {},
   "outputs": [],
   "source": [
    "df.Embarked = df.Embarked.astype('category')"
   ]
  },
  {
   "cell_type": "code",
   "execution_count": 169,
   "id": "cee92abb",
   "metadata": {},
   "outputs": [
    {
     "data": {
      "text/plain": [
       "[0, 1, 2]\n",
       "Categories (3, int64): [0, 1, 2]"
      ]
     },
     "execution_count": 169,
     "metadata": {},
     "output_type": "execute_result"
    }
   ],
   "source": [
    "df.Embarked.unique()"
   ]
  },
  {
   "cell_type": "code",
   "execution_count": 170,
   "id": "7a15424d",
   "metadata": {},
   "outputs": [
    {
     "data": {
      "text/plain": [
       "0    644\n",
       "1    168\n",
       "2     77\n",
       "Name: Embarked, dtype: int64"
      ]
     },
     "execution_count": 170,
     "metadata": {},
     "output_type": "execute_result"
    }
   ],
   "source": [
    "df.Embarked.value_counts()"
   ]
  },
  {
   "cell_type": "code",
   "execution_count": 171,
   "id": "76470b83",
   "metadata": {},
   "outputs": [
    {
     "name": "stdout",
     "output_type": "stream",
     "text": [
      "<class 'pandas.core.frame.DataFrame'>\n",
      "Int64Index: 889 entries, 0 to 890\n",
      "Data columns (total 8 columns):\n",
      " #   Column    Non-Null Count  Dtype   \n",
      "---  ------    --------------  -----   \n",
      " 0   Survived  889 non-null    int64   \n",
      " 1   Pclass    889 non-null    int64   \n",
      " 2   Sex       889 non-null    category\n",
      " 3   Age       889 non-null    float64 \n",
      " 4   SibSp     889 non-null    int64   \n",
      " 5   Parch     889 non-null    int64   \n",
      " 6   Fare      889 non-null    float64 \n",
      " 7   Embarked  889 non-null    category\n",
      "dtypes: category(2), float64(2), int64(4)\n",
      "memory usage: 50.6 KB\n"
     ]
    }
   ],
   "source": [
    "# View datatype\n",
    "df.info()"
   ]
  },
  {
   "cell_type": "code",
   "execution_count": 172,
   "id": "0954f4c1",
   "metadata": {},
   "outputs": [
    {
     "name": "stdout",
     "output_type": "stream",
     "text": [
      "<class 'pandas.core.frame.DataFrame'>\n",
      "Int64Index: 889 entries, 0 to 890\n",
      "Data columns (total 8 columns):\n",
      " #   Column    Non-Null Count  Dtype   \n",
      "---  ------    --------------  -----   \n",
      " 0   Survived  889 non-null    int64   \n",
      " 1   Pclass    889 non-null    int64   \n",
      " 2   Sex       889 non-null    category\n",
      " 3   Age       889 non-null    int64   \n",
      " 4   SibSp     889 non-null    int64   \n",
      " 5   Parch     889 non-null    int64   \n",
      " 6   Fare      889 non-null    int64   \n",
      " 7   Embarked  889 non-null    category\n",
      "dtypes: category(2), int64(6)\n",
      "memory usage: 50.6 KB\n"
     ]
    }
   ],
   "source": [
    "# Format data type to int\n",
    "df['Age'] = df['Age'].apply(np.int64)\n",
    "df['Fare'] = df['Fare'].apply(np.int64)\n",
    "df.info()\n",
    " "
   ]
  },
  {
   "cell_type": "markdown",
   "id": "b07e87ae",
   "metadata": {},
   "source": [
    "## Machine Learning"
   ]
  },
  {
   "cell_type": "markdown",
   "id": "4657f16e",
   "metadata": {},
   "source": [
    "Defining Independent (X) and dependent (y) variables"
   ]
  },
  {
   "cell_type": "code",
   "execution_count": 173,
   "id": "d1e1e0d6",
   "metadata": {},
   "outputs": [
    {
     "data": {
      "text/html": [
       "<div>\n",
       "<style scoped>\n",
       "    .dataframe tbody tr th:only-of-type {\n",
       "        vertical-align: middle;\n",
       "    }\n",
       "\n",
       "    .dataframe tbody tr th {\n",
       "        vertical-align: top;\n",
       "    }\n",
       "\n",
       "    .dataframe thead th {\n",
       "        text-align: right;\n",
       "    }\n",
       "</style>\n",
       "<table border=\"1\" class=\"dataframe\">\n",
       "  <thead>\n",
       "    <tr style=\"text-align: right;\">\n",
       "      <th></th>\n",
       "      <th>Pclass</th>\n",
       "      <th>Sex</th>\n",
       "      <th>Age</th>\n",
       "      <th>SibSp</th>\n",
       "      <th>Parch</th>\n",
       "      <th>Fare</th>\n",
       "      <th>Embarked</th>\n",
       "    </tr>\n",
       "  </thead>\n",
       "  <tbody>\n",
       "    <tr>\n",
       "      <th>0</th>\n",
       "      <td>3</td>\n",
       "      <td>1</td>\n",
       "      <td>22</td>\n",
       "      <td>1</td>\n",
       "      <td>0</td>\n",
       "      <td>7</td>\n",
       "      <td>0</td>\n",
       "    </tr>\n",
       "    <tr>\n",
       "      <th>1</th>\n",
       "      <td>1</td>\n",
       "      <td>0</td>\n",
       "      <td>38</td>\n",
       "      <td>1</td>\n",
       "      <td>0</td>\n",
       "      <td>71</td>\n",
       "      <td>1</td>\n",
       "    </tr>\n",
       "    <tr>\n",
       "      <th>2</th>\n",
       "      <td>3</td>\n",
       "      <td>0</td>\n",
       "      <td>26</td>\n",
       "      <td>0</td>\n",
       "      <td>0</td>\n",
       "      <td>7</td>\n",
       "      <td>0</td>\n",
       "    </tr>\n",
       "    <tr>\n",
       "      <th>3</th>\n",
       "      <td>1</td>\n",
       "      <td>0</td>\n",
       "      <td>35</td>\n",
       "      <td>1</td>\n",
       "      <td>0</td>\n",
       "      <td>53</td>\n",
       "      <td>0</td>\n",
       "    </tr>\n",
       "    <tr>\n",
       "      <th>4</th>\n",
       "      <td>3</td>\n",
       "      <td>1</td>\n",
       "      <td>35</td>\n",
       "      <td>0</td>\n",
       "      <td>0</td>\n",
       "      <td>8</td>\n",
       "      <td>0</td>\n",
       "    </tr>\n",
       "  </tbody>\n",
       "</table>\n",
       "</div>"
      ],
      "text/plain": [
       "   Pclass Sex  Age  SibSp  Parch  Fare Embarked\n",
       "0       3   1   22      1      0     7        0\n",
       "1       1   0   38      1      0    71        1\n",
       "2       3   0   26      0      0     7        0\n",
       "3       1   0   35      1      0    53        0\n",
       "4       3   1   35      0      0     8        0"
      ]
     },
     "execution_count": 173,
     "metadata": {},
     "output_type": "execute_result"
    }
   ],
   "source": [
    "# Independent variable\n",
    "X = df.iloc[:,[1,2,3,4,5,6,7]]\n",
    "X.head()"
   ]
  },
  {
   "cell_type": "code",
   "execution_count": 174,
   "id": "6458d093",
   "metadata": {},
   "outputs": [
    {
     "data": {
      "text/plain": [
       "0    0\n",
       "1    1\n",
       "2    1\n",
       "3    1\n",
       "4    0\n",
       "Name: Survived, dtype: int64"
      ]
     },
     "execution_count": 174,
     "metadata": {},
     "output_type": "execute_result"
    }
   ],
   "source": [
    "# Dependent variable\n",
    "y = df.iloc[:,0]\n",
    "y.head()"
   ]
  },
  {
   "cell_type": "code",
   "execution_count": 175,
   "id": "900fe1cd",
   "metadata": {},
   "outputs": [
    {
     "name": "stdout",
     "output_type": "stream",
     "text": [
      "shape of independent variable: (889, 7)\n",
      "shape of dependent variable: (889,)\n"
     ]
    }
   ],
   "source": [
    "print(f'shape of independent variable: {X.shape}')\n",
    "print(f'shape of dependent variable: {y.shape}')"
   ]
  },
  {
   "cell_type": "markdown",
   "id": "fd8b8d94",
   "metadata": {},
   "source": [
    "### Training and Test Samples"
   ]
  },
  {
   "cell_type": "markdown",
   "id": "3a006edc",
   "metadata": {},
   "source": [
    "Using a ratio of 60/20/20 for training, development and test size respectively,  we inititially split our data of 889 items into a training set of 711 observations and 7 columns and a test set of 178 observations.\n",
    "\n",
    "We then split the training set using a 0.25 ratio so that we have a training set of 568 observations and 7 columns and a development set of 143 observations.\n",
    "\n",
    "We can use the sets to train and evaluate our model to counteract potential 'overfitting' or 'underfitting' issues."
   ]
  },
  {
   "cell_type": "code",
   "execution_count": 176,
   "id": "53ea5403",
   "metadata": {},
   "outputs": [
    {
     "name": "stdout",
     "output_type": "stream",
     "text": [
      "Training data: (711, 7) (711,)\n",
      "Test data: (178, 7) (178,)\n"
     ]
    }
   ],
   "source": [
    "# assign random state\n",
    "r = 7\n",
    "\n",
    "# split into training and test set\n",
    "X_train, X_test, y_train, y_test, = train_test_split(X, \n",
    "                y, test_size=0.2, random_state=0)\n",
    "\n",
    "print (\"Training data:\",X_train.shape, y_train.shape)\n",
    "print (\"Test data:\",X_test.shape, y_test.shape)\n"
   ]
  },
  {
   "cell_type": "code",
   "execution_count": 177,
   "id": "5de529c9",
   "metadata": {},
   "outputs": [
    {
     "name": "stdout",
     "output_type": "stream",
     "text": [
      "Training data: (568, 7) (568,)\n",
      "Test data: (143, 7) (143,)\n"
     ]
    }
   ],
   "source": [
    "# split into training and development set\n",
    "X_train, X_dev, y_train, y_dev, = train_test_split(X_train, \n",
    "                y_train, test_size=0.2, random_state=0)\n",
    "\n",
    "print (\"Training data:\",X_train.shape, y_train.shape)\n",
    "print (\"Test data:\",X_dev.shape, y_dev.shape)"
   ]
  },
  {
   "cell_type": "markdown",
   "id": "3eb93934",
   "metadata": {},
   "source": [
    "### Decision Tree Classifier"
   ]
  },
  {
   "cell_type": "code",
   "execution_count": 178,
   "id": "9cd91795",
   "metadata": {},
   "outputs": [
    {
     "name": "stdout",
     "output_type": "stream",
     "text": [
      "Accuracy without pruning: 0.7902097902097902\n",
      "At depth: 17\n"
     ]
    }
   ],
   "source": [
    "# training a model without pruning\n",
    "unpruned = DecisionTreeClassifier(max_depth=None, random_state=r)\n",
    "unpruned.fit(X_train, y_train)\n",
    "\n",
    "# Accuracy on dev set\n",
    "print(\"Accuracy without pruning:\", unpruned.score(X_dev, y_dev))\n",
    "print(\"At depth:\", unpruned.tree_.max_depth)\n",
    "\n"
   ]
  },
  {
   "cell_type": "code",
   "execution_count": 179,
   "id": "46a36cdc",
   "metadata": {},
   "outputs": [
    {
     "data": {
      "image/png": "[encoded data removed]",
      "text/plain": [
       "<Figure size 1500x1000 with 1 Axes>"
      ]
     },
     "metadata": {},
     "output_type": "display_data"
    }
   ],
   "source": [
    "#plot decision tree\n",
    "plt.figure(figsize=(15,10))\n",
    "tree.plot_tree(unpruned, filled=True)\n",
    "plt.show();"
   ]
  },
  {
   "cell_type": "markdown",
   "id": "3a344a67",
   "metadata": {},
   "source": [
    "### Pruning the Tree"
   ]
  },
  {
   "cell_type": "code",
   "execution_count": 180,
   "id": "370b6496",
   "metadata": {},
   "outputs": [
    {
     "data": {
      "image/png": "[encoded data removed]",
      "text/plain": [
       "<Figure size 1000x500 with 1 Axes>"
      ]
     },
     "metadata": {},
     "output_type": "display_data"
    }
   ],
   "source": [
    "# looking at effect of pruning   \n",
    "pruned_depths = range(2, 11)\n",
    "\n",
    "training_scores = []\n",
    "dev_scores = []\n",
    "for d in pruned_depths:\n",
    "  clf = DecisionTreeClassifier(max_depth=d, random_state=r)\n",
    "  clf.fit(X_train, y_train)\n",
    "  train_score = clf.score(X_train, y_train)\n",
    "  training_scores.append(train_score)\n",
    "  dev_score = clf.score(X_dev, y_dev)\n",
    "  dev_scores.append(dev_score)\n",
    "\n",
    "plt.figure(figsize=(10,5))\n",
    "plt.plot(pruned_depths, training_scores, label = 'Training' )\n",
    "plt.plot(pruned_depths, dev_scores, label = 'Development' )\n",
    "plt.xlabel(\"Max_depth values\")\n",
    "plt.ylabel(\"Accuracy\")\n",
    "plt.title('Training and Development Accuracy against Max Depths')\n",
    "plt.legend()\n",
    "plt.show()"
   ]
  },
  {
   "cell_type": "markdown",
   "id": "49135fe2",
   "metadata": {},
   "source": [
    "As we can see the Development line for Accuracy is showing a line that is overfitted where all the depths are plotted on the line of best fit. The Training line is showing a smooth and robust fit."
   ]
  },
  {
   "cell_type": "code",
   "execution_count": 181,
   "id": "8a323895",
   "metadata": {},
   "outputs": [
    {
     "name": "stdout",
     "output_type": "stream",
     "text": [
      "Best performance reached at depth of: 10\n"
     ]
    }
   ],
   "source": [
    "# fitting the chosen tree\n",
    "best_depth = pruned_depths[np.argmax(training_scores)]\n",
    "print('Best performance reached at depth of:', best_depth)"
   ]
  },
  {
   "cell_type": "code",
   "execution_count": 182,
   "id": "0adbf473",
   "metadata": {},
   "outputs": [
    {
     "name": "stdout",
     "output_type": "stream",
     "text": [
      "Accuracy with pruning: 0.7303370786516854\n",
      "At depth: 10\n"
     ]
    }
   ],
   "source": [
    "# training model with pruning\n",
    "pruned = DecisionTreeClassifier(max_depth=10, random_state=r)\n",
    "pruned.fit(X_train, y_train)\n",
    "\n",
    "# Accuracy on y_test\n",
    "print(\"Accuracy with pruning:\", pruned.score(X_test, y_test))\n",
    "print(\"At depth:\", pruned.tree_.max_depth)"
   ]
  },
  {
   "cell_type": "markdown",
   "id": "f925b1ee",
   "metadata": {},
   "source": [
    "## Improving Decision Trees"
   ]
  },
  {
   "cell_type": "markdown",
   "id": "958b8868",
   "metadata": {},
   "source": [
    "### Training and Test Samples"
   ]
  },
  {
   "cell_type": "code",
   "execution_count": 183,
   "id": "88947024",
   "metadata": {},
   "outputs": [
    {
     "name": "stdout",
     "output_type": "stream",
     "text": [
      "Training data: (622, 8) (622,)\n",
      "Test data: (267, 8) (267,)\n"
     ]
    }
   ],
   "source": [
    "# Create toy data\n",
    "# 70% training and 30% test\n",
    "X, y = make_classification(n_samples=889, n_features=8,\n",
    "                           n_informative=7, n_redundant=0,\n",
    "                           random_state=123, shuffle=False)\n",
    "\n",
    "X_train, X_test, y_train, y_test = train_test_split(X, y, test_size=0.3)\n",
    "\n",
    "print (\"Training data:\",X_train.shape, y_train.shape)\n",
    "print (\"Test data:\",X_test.shape, y_test.shape)\n"
   ]
  },
  {
   "cell_type": "markdown",
   "id": "7543b910",
   "metadata": {},
   "source": [
    "### Decision Tree Classifier"
   ]
  },
  {
   "cell_type": "code",
   "execution_count": 184,
   "id": "ad27e91d",
   "metadata": {},
   "outputs": [
    {
     "name": "stdout",
     "output_type": "stream",
     "text": [
      "Accuracy base: 0.8164794007490637\n",
      "At depth: 17\n"
     ]
    }
   ],
   "source": [
    "# create base model\n",
    "base = DecisionTreeClassifier(max_depth=None)\n",
    "\n",
    "# fit training set to model\n",
    "base.fit(X_train,y_train)\n",
    "\n",
    "# evaluate performance\n",
    "accuracy_base = base.score(X_test, y_test)\n",
    "print(\"Accuracy base:\", accuracy_base )\n",
    "print(\"At depth:\", base.tree_.max_depth)\n",
    "\n"
   ]
  },
  {
   "cell_type": "markdown",
   "id": "8d8321fe",
   "metadata": {},
   "source": [
    "### Bagged Ensemble"
   ]
  },
  {
   "cell_type": "code",
   "execution_count": 185,
   "id": "5d36763a",
   "metadata": {},
   "outputs": [
    {
     "name": "stdout",
     "output_type": "stream",
     "text": [
      "Accuracy ensemble: 0.8876404494382022\n"
     ]
    }
   ],
   "source": [
    "\n",
    "# create bagged ensemble model\n",
    "ensemble = BaggingClassifier(base_estimator=base, n_estimators=100, random_state=7)\n",
    "\n",
    "# fit training set to model\n",
    "ensemble.fit(X_train,y_train)\n",
    "\n",
    "# evaluate performance\n",
    "accuracy_ensemble = ensemble.score(X_test, y_test)\n",
    "print(\"Accuracy ensemble:\", accuracy_ensemble)"
   ]
  },
  {
   "cell_type": "markdown",
   "id": "781dec1a",
   "metadata": {},
   "source": [
    "### Random Forest Classifier"
   ]
  },
  {
   "cell_type": "code",
   "execution_count": 186,
   "id": "854f8356",
   "metadata": {},
   "outputs": [
    {
     "name": "stdout",
     "output_type": "stream",
     "text": [
      "Accuracy Random Forest: 0.8801498127340824\n"
     ]
    }
   ],
   "source": [
    "md = base.tree_.max_depth\n",
    "\n",
    "# create bagged random forest model\n",
    "random_forest = RandomForestClassifier(n_estimators=100, max_depth=md)\n",
    "\n",
    "# fit training set to model\n",
    "random_forest.fit(X_train,y_train)\n",
    "\n",
    "# evaluate performance\n",
    "accuracy_random_forest = random_forest.score(X_test, y_test)\n",
    "print(\"Accuracy Random Forest:\", accuracy_random_forest)"
   ]
  },
  {
   "cell_type": "markdown",
   "id": "20b6861d",
   "metadata": {},
   "source": [
    "### Adaboost Classifier "
   ]
  },
  {
   "cell_type": "code",
   "execution_count": 187,
   "id": "b62b6ac2",
   "metadata": {},
   "outputs": [
    {
     "name": "stdout",
     "output_type": "stream",
     "text": [
      "Accuracy Adaboost: 0.7752808988764045\n"
     ]
    }
   ],
   "source": [
    "# create boosted model\n",
    "adaboost_classifier = AdaBoostClassifier(n_estimators=100, random_state=7)\n",
    "\n",
    "# fit training set to model\n",
    "adaboost_classifier.fit(X_train,y_train)\n",
    "\n",
    "# evaluate performance\n",
    "accuracy_adaboost = adaboost_classifier.score(X_test, y_test)\n",
    "print(\"Accuracy Adaboost:\", accuracy_adaboost)"
   ]
  },
  {
   "cell_type": "markdown",
   "id": "f811746c",
   "metadata": {},
   "source": [
    "### Importance scores\n",
    "\n",
    "The Random Forest ensemble method in sklearn allows you to print importance scores for features in the dataset.\n"
   ]
  },
  {
   "cell_type": "code",
   "execution_count": 188,
   "id": "fa505654",
   "metadata": {},
   "outputs": [
    {
     "data": {
      "text/plain": [
       "0    0.171139\n",
       "4    0.156802\n",
       "5    0.136508\n",
       "6    0.135360\n",
       "2    0.123458\n",
       "1    0.118716\n",
       "3    0.099079\n",
       "7    0.058938\n",
       "dtype: float64"
      ]
     },
     "execution_count": 188,
     "metadata": {},
     "output_type": "execute_result"
    }
   ],
   "source": [
    "forest = RandomForestClassifier(n_estimators=100, random_state=7)\n",
    "forest.fit(X_train, y_train)\n",
    "\n",
    "feature_imp = pd.Series(forest.feature_importances_).sort_values(ascending=False)\n",
    "feature_imp"
   ]
  },
  {
   "cell_type": "code",
   "execution_count": 189,
   "id": "08f3f865",
   "metadata": {},
   "outputs": [
    {
     "data": {
      "text/plain": [
       "0      0\n",
       "1      1\n",
       "2      1\n",
       "3      1\n",
       "4      0\n",
       "      ..\n",
       "886    0\n",
       "887    1\n",
       "888    0\n",
       "889    1\n",
       "890    0\n",
       "Name: Survived, Length: 889, dtype: int64"
      ]
     },
     "execution_count": 189,
     "metadata": {},
     "output_type": "execute_result"
    }
   ],
   "source": [
    "#Survived\n",
    "df.iloc[:,0]"
   ]
  },
  {
   "cell_type": "markdown",
   "id": "1e1c8f67",
   "metadata": {},
   "source": [
    "At the start of improving the decision tree, we specified that this dataset has 8 features, of which  7 are informative. The classifier indeed relied on the top seven features most.\n",
    "\n",
    "An advantage of investigating the importance of features is that irrelevant features can be removed. This removal of noise tends to improve performance and reduce training time."
   ]
  },
  {
   "cell_type": "code",
   "execution_count": 190,
   "id": "1c972d57",
   "metadata": {},
   "outputs": [],
   "source": [
    "# select important features\n",
    "X = X[:, :7]\n"
   ]
  },
  {
   "cell_type": "code",
   "execution_count": 191,
   "id": "7213cd06",
   "metadata": {},
   "outputs": [
    {
     "name": "stdout",
     "output_type": "stream",
     "text": [
      "Accuracy base: 0.7677902621722846\n",
      "Accuracy ensemble: 0.8876404494382022\n"
     ]
    }
   ],
   "source": [
    "# retrain with 70% training and 30% test\n",
    "X_train, X_test, y_train, y_test = train_test_split(X, y, test_size=0.3) # 70% training and 30% test\n",
    "base.fit(X_train,y_train)\n",
    "ensemble.fit(X_train,y_train)\n",
    "print(\"Accuracy base:\",base.score(X_test, y_test))\n",
    "print(\"Accuracy ensemble:\",ensemble.score(X_test, y_test))\n"
   ]
  },
  {
   "cell_type": "markdown",
   "id": "7106e91a",
   "metadata": {},
   "source": [
    "### max_depth"
   ]
  },
  {
   "cell_type": "code",
   "execution_count": 192,
   "id": "f344b9ce",
   "metadata": {},
   "outputs": [],
   "source": [
    "# Pruning max_depth\n",
    "pruned_depths = range(2, 11)\n",
    "\n",
    "training_scores = []\n",
    "#dev_scores = []\n",
    "for d in pruned_depths:\n",
    "  clf = RandomForestClassifier(max_depth=d)\n",
    "  clf.fit(X_train, y_train)\n",
    "  train_score = clf.score(X_train, y_train)\n",
    "  training_scores.append(train_score)\n",
    "\n"
   ]
  },
  {
   "cell_type": "code",
   "execution_count": 193,
   "id": "5f0145c3",
   "metadata": {},
   "outputs": [
    {
     "data": {
      "image/png": "[encoded data removed]",
      "text/plain": [
       "<Figure size 1000x500 with 1 Axes>"
      ]
     },
     "metadata": {},
     "output_type": "display_data"
    }
   ],
   "source": [
    "# create plot\n",
    "plt.figure(figsize=(10,5))\n",
    "plt.plot(pruned_depths, training_scores, label = 'Training' )\n",
    "plt.xlabel(\"Max_depth values\")\n",
    "plt.ylabel(\"Accuracy\")\n",
    "plt.title('Training Accuracy against Max Depths')\n",
    "plt.legend()\n",
    "plt.show()"
   ]
  },
  {
   "cell_type": "code",
   "execution_count": 195,
   "id": "3991b964",
   "metadata": {},
   "outputs": [
    {
     "name": "stdout",
     "output_type": "stream",
     "text": [
      "Best performance reached at depth of: 9\n"
     ]
    }
   ],
   "source": [
    "# fitting the chosen tree\n",
    "best_depth = pruned_depths[np.argmax(training_scores)]\n",
    "print('Best performance reached at depth of:', best_depth)\n"
   ]
  },
  {
   "cell_type": "markdown",
   "id": "372b5196",
   "metadata": {},
   "source": [
    "### n_estimators"
   ]
  },
  {
   "cell_type": "code",
   "execution_count": 196,
   "id": "1cd04d96",
   "metadata": {},
   "outputs": [],
   "source": [
    "pruned_estimators = range(1, 101)\n",
    "\n",
    "training_scores = []\n",
    "for e in pruned_estimators:\n",
    "  clf = RandomForestClassifier(n_estimators=e)\n",
    "  clf.fit(X_train, y_train)\n",
    "  train_score = clf.score(X_train, y_train)\n",
    "  training_scores.append(train_score)\n",
    "\n"
   ]
  },
  {
   "cell_type": "code",
   "execution_count": 197,
   "id": "965b7473",
   "metadata": {},
   "outputs": [
    {
     "data": {
      "image/png": "[encoded data removed]",
      "text/plain": [
       "<Figure size 1000x500 with 1 Axes>"
      ]
     },
     "metadata": {},
     "output_type": "display_data"
    }
   ],
   "source": [
    "# create plot\n",
    "plt.figure(figsize=(10,5))\n",
    "plt.plot(pruned_estimators, training_scores, label = 'Training' )\n",
    "plt.xlabel(\"Max_estimator values\")\n",
    "plt.ylabel(\"Accuracy\")\n",
    "plt.title('Training Accuracy against Max Estimators')\n",
    "plt.legend()\n",
    "plt.show()"
   ]
  },
  {
   "cell_type": "code",
   "execution_count": 198,
   "id": "e18a702e",
   "metadata": {},
   "outputs": [
    {
     "name": "stdout",
     "output_type": "stream",
     "text": [
      "Best performance reached when number of estimators is: 15\n"
     ]
    }
   ],
   "source": [
    "# fitting the chosen tree\n",
    "best_estimator = pruned_estimators[np.argmax(training_scores)]\n",
    "print('Best performance reached when number of estimators is:', best_estimator)\n",
    "\n"
   ]
  },
  {
   "cell_type": "code",
   "execution_count": 199,
   "id": "c80e536b",
   "metadata": {},
   "outputs": [
    {
     "name": "stdout",
     "output_type": "stream",
     "text": [
      "Accuracy with Random Forest: 0.9850187265917603\n",
      "At depth: 9 with number of estimators: 15\n"
     ]
    }
   ],
   "source": [
    "# training model with pruning\n",
    "pruned = RandomForestClassifier(max_depth=best_depth, n_estimators=best_estimator)\n",
    "pruned.fit(X, y)\n",
    "\n",
    "# Accuracy\n",
    "pruned_random_forest_accuracy = pruned.score(X_test, y_test)\n",
    "print(\"Accuracy with Random Forest:\", pruned_random_forest_accuracy)\n",
    "print(f\"At depth: {pruned.max_depth} with number of estimators: {pruned.n_estimators}\")\n"
   ]
  },
  {
   "cell_type": "markdown",
   "id": "1c7081a3",
   "metadata": {},
   "source": [
    "### Accuracy report for all models"
   ]
  },
  {
   "cell_type": "code",
   "execution_count": 200,
   "id": "6162f5bd",
   "metadata": {},
   "outputs": [
    {
     "name": "stdout",
     "output_type": "stream",
     "text": [
      "Accuracy base: 0.8164794007490637\n",
      "Accuracy ensemble: 0.8876404494382022\n",
      "Accuracy Random Forest: 0.8801498127340824\n",
      "Accuracy pruned Random Forest: 0.9850187265917603\n",
      "Accuracy Adaboost: 0.7752808988764045\n"
     ]
    }
   ],
   "source": [
    "# base model\n",
    "print(\"Accuracy base:\", accuracy_base)\n",
    "\n",
    "# ensemble\n",
    "print(\"Accuracy ensemble:\", accuracy_ensemble)\n",
    "\n",
    "# random forest\n",
    "print(\"Accuracy Random Forest:\", accuracy_random_forest)\n",
    "\n",
    "# pruned Random Forest\n",
    "print(\"Accuracy pruned Random Forest:\", pruned_random_forest_accuracy)\n",
    "\n",
    "# adaboost\n",
    "print(\"Accuracy Adaboost:\", accuracy_adaboost)"
   ]
  },
  {
   "cell_type": "markdown",
   "id": "5b48aee6",
   "metadata": {},
   "source": [
    "### Best Accuracy (Pruned Random Forest)"
   ]
  },
  {
   "cell_type": "code",
   "execution_count": 201,
   "id": "94510d26",
   "metadata": {},
   "outputs": [
    {
     "name": "stdout",
     "output_type": "stream",
     "text": [
      "Best Accuracy with pruned Random Forest: 0.9850187265917603\n",
      "At depth: 9 and number of estimators: 15\n"
     ]
    }
   ],
   "source": [
    "# Accuracy with best depth and best n_estimators\n",
    "print(\"Best Accuracy with pruned Random Forest:\", pruned.score(X_test, y_test))\n",
    "print(f\"At depth: {pruned.max_depth} and number of estimators: {pruned.n_estimators}\")"
   ]
  }
 ],
 "metadata": {
  "kernelspec": {
   "display_name": "Python 3 (ipykernel)",
   "language": "python",
   "name": "python3"
  },
  "language_info": {
   "codemirror_mode": {
    "name": "ipython",
    "version": 3
   },
   "file_extension": ".py",
   "mimetype": "text/x-python",
   "name": "python",
   "nbconvert_exporter": "python",
   "pygments_lexer": "ipython3",
   "version": "3.10.6"
  }
 },
 "nbformat": 4,
 "nbformat_minor": 5
}
